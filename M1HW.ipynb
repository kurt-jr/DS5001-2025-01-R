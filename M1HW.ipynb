{
 "cells": [
  {
   "cell_type": "markdown",
   "id": "42e3a726-7040-4f6a-8745-52363020a2be",
   "metadata": {},
   "source": [
    "# Module 1 HW"
   ]
  },
  {
   "cell_type": "markdown",
   "id": "aa096c7f-29d0-4ee8-b2ba-aeebecef4f4e",
   "metadata": {},
   "source": [
    "### Kurt Samuels Jr"
   ]
  },
  {
   "cell_type": "markdown",
   "id": "d7aa9bad-1831-479f-97d4-4154d7ab1025",
   "metadata": {},
   "source": [
    "create a notebook to import the text contained the attached file (pg42324.txt Download pg42324.txt) as a data frame of lines (not chunks). Once you have done this, answer these questions or perform the task listed. In your notebook, create a section for each question."
   ]
  },
  {
   "cell_type": "code",
   "execution_count": 1,
   "id": "b8ec3665-7a94-4de4-964b-c983004416b6",
   "metadata": {},
   "outputs": [],
   "source": [
    "import pandas as pd\n",
    "import configparser"
   ]
  },
  {
   "cell_type": "code",
   "execution_count": 3,
   "id": "e04538d7-6e49-4cf5-8959-eaf303c82648",
   "metadata": {},
   "outputs": [],
   "source": [
    "config = configparser.ConfigParser()\n",
    "config.read(\"/Users/kurtsamuels/Desktop/msds/spring/DS5001/env.ini\")\n",
    "data_home = config['DEFAULT']['data_home']\n",
    "output_dir = config['DEFAULT']['output_dir']"
   ]
  },
  {
   "cell_type": "code",
   "execution_count": 4,
   "id": "b79b5e37-f911-43a8-9b06-04c1bcb5d366",
   "metadata": {},
   "outputs": [],
   "source": [
    "src_file = f\"{data_home}/pg42324.txt\""
   ]
  },
  {
   "cell_type": "code",
   "execution_count": 7,
   "id": "df2f4539-0bdd-41de-b174-5b9725d024c2",
   "metadata": {},
   "outputs": [
    {
     "data": {
      "text/plain": [
       "['\\ufeffThe Project Gutenberg EBook of Frankenstein, by Mary W. Shelley\\n',\n",
       " '\\n',\n",
       " 'This eBook is for the use of anyone anywhere at no cost and with\\n',\n",
       " 'almost no restrictions whatsoever.  You may copy it, give it away or\\n',\n",
       " 're-use it under the terms of the Project Gutenberg License included\\n']"
      ]
     },
     "execution_count": 7,
     "metadata": {},
     "output_type": "execute_result"
    }
   ],
   "source": [
    "lines = open(src_file, 'r').readlines()\n",
    "\n",
    "lines[:5]"
   ]
  },
  {
   "cell_type": "code",
   "execution_count": 8,
   "id": "bf699acb-e96d-4422-9b4b-1c117140a528",
   "metadata": {},
   "outputs": [
    {
     "data": {
      "text/html": [
       "<div>\n",
       "<style scoped>\n",
       "    .dataframe tbody tr th:only-of-type {\n",
       "        vertical-align: middle;\n",
       "    }\n",
       "\n",
       "    .dataframe tbody tr th {\n",
       "        vertical-align: top;\n",
       "    }\n",
       "\n",
       "    .dataframe thead th {\n",
       "        text-align: right;\n",
       "    }\n",
       "</style>\n",
       "<table border=\"1\" class=\"dataframe\">\n",
       "  <thead>\n",
       "    <tr style=\"text-align: right;\">\n",
       "      <th></th>\n",
       "      <th>0</th>\n",
       "    </tr>\n",
       "  </thead>\n",
       "  <tbody>\n",
       "    <tr>\n",
       "      <th>0</th>\n",
       "      <td>﻿The Project Gutenberg EBook of Frankenstein, ...</td>\n",
       "    </tr>\n",
       "    <tr>\n",
       "      <th>1</th>\n",
       "      <td>\\n</td>\n",
       "    </tr>\n",
       "    <tr>\n",
       "      <th>2</th>\n",
       "      <td>This eBook is for the use of anyone anywhere a...</td>\n",
       "    </tr>\n",
       "    <tr>\n",
       "      <th>3</th>\n",
       "      <td>almost no restrictions whatsoever.  You may co...</td>\n",
       "    </tr>\n",
       "    <tr>\n",
       "      <th>4</th>\n",
       "      <td>re-use it under the terms of the Project Guten...</td>\n",
       "    </tr>\n",
       "    <tr>\n",
       "      <th>...</th>\n",
       "      <td>...</td>\n",
       "    </tr>\n",
       "    <tr>\n",
       "      <th>8023</th>\n",
       "      <td>\\n</td>\n",
       "    </tr>\n",
       "    <tr>\n",
       "      <th>8024</th>\n",
       "      <td>This Web site includes information about Proje...</td>\n",
       "    </tr>\n",
       "    <tr>\n",
       "      <th>8025</th>\n",
       "      <td>including how to make donations to the Project...</td>\n",
       "    </tr>\n",
       "    <tr>\n",
       "      <th>8026</th>\n",
       "      <td>Archive Foundation, how to help produce our ne...</td>\n",
       "    </tr>\n",
       "    <tr>\n",
       "      <th>8027</th>\n",
       "      <td>subscribe to our email newsletter to hear abou...</td>\n",
       "    </tr>\n",
       "  </tbody>\n",
       "</table>\n",
       "<p>8028 rows × 1 columns</p>\n",
       "</div>"
      ],
      "text/plain": [
       "                                                      0\n",
       "0     ﻿The Project Gutenberg EBook of Frankenstein, ...\n",
       "1                                                    \\n\n",
       "2     This eBook is for the use of anyone anywhere a...\n",
       "3     almost no restrictions whatsoever.  You may co...\n",
       "4     re-use it under the terms of the Project Guten...\n",
       "...                                                 ...\n",
       "8023                                                 \\n\n",
       "8024  This Web site includes information about Proje...\n",
       "8025  including how to make donations to the Project...\n",
       "8026  Archive Foundation, how to help produce our ne...\n",
       "8027  subscribe to our email newsletter to hear abou...\n",
       "\n",
       "[8028 rows x 1 columns]"
      ]
     },
     "execution_count": 8,
     "metadata": {},
     "output_type": "execute_result"
    }
   ],
   "source": [
    "text = pd.DataFrame(lines)\n",
    "text"
   ]
  },
  {
   "cell_type": "markdown",
   "id": "41d71280-7122-45f8-a714-9ec6e5fabcd0",
   "metadata": {},
   "source": [
    "1.How many tokens does the raw text have? By raw text, we mean the text as-is, without all of the Gutenberg boilerplate removed."
   ]
  },
  {
   "cell_type": "code",
   "execution_count": 25,
   "id": "5754e1b8-07e9-432b-bde6-0e9d6a75b5e8",
   "metadata": {},
   "outputs": [
    {
     "name": "stdout",
     "output_type": "stream",
     "text": [
      "The raw text contains 80985 tokens.\n"
     ]
    }
   ],
   "source": [
    "with open(src_file, 'r', encoding='utf-8') as file:\n",
    "    raw_text = file.read()\n",
    "tokens = raw_text.split()\n",
    "total_tokens = len(tokens)\n",
    "print(f\"The raw text contains {total_tokens} tokens.\")"
   ]
  },
  {
   "cell_type": "markdown",
   "id": "f9a7beb6-9e55-433c-bf06-016054d643b1",
   "metadata": {},
   "source": [
    "2. What is the most frequent pronoun in the text?"
   ]
  },
  {
   "cell_type": "code",
   "execution_count": 27,
   "id": "c7a6ed08-f830-45fe-a106-440660911a4e",
   "metadata": {},
   "outputs": [
    {
     "data": {
      "text/html": [
       "<div>\n",
       "<style scoped>\n",
       "    .dataframe tbody tr th:only-of-type {\n",
       "        vertical-align: middle;\n",
       "    }\n",
       "\n",
       "    .dataframe tbody tr th {\n",
       "        vertical-align: top;\n",
       "    }\n",
       "\n",
       "    .dataframe thead th {\n",
       "        text-align: right;\n",
       "    }\n",
       "</style>\n",
       "<table border=\"1\" class=\"dataframe\">\n",
       "  <thead>\n",
       "    <tr style=\"text-align: right;\">\n",
       "      <th></th>\n",
       "      <th>Pronoun</th>\n",
       "      <th>Count</th>\n",
       "    </tr>\n",
       "  </thead>\n",
       "  <tbody>\n",
       "    <tr>\n",
       "      <th>0</th>\n",
       "      <td>i</td>\n",
       "      <td>2794</td>\n",
       "    </tr>\n",
       "    <tr>\n",
       "      <th>1</th>\n",
       "      <td>you</td>\n",
       "      <td>512</td>\n",
       "    </tr>\n",
       "    <tr>\n",
       "      <th>2</th>\n",
       "      <td>he</td>\n",
       "      <td>596</td>\n",
       "    </tr>\n",
       "    <tr>\n",
       "      <th>3</th>\n",
       "      <td>she</td>\n",
       "      <td>242</td>\n",
       "    </tr>\n",
       "    <tr>\n",
       "      <th>4</th>\n",
       "      <td>it</td>\n",
       "      <td>466</td>\n",
       "    </tr>\n",
       "    <tr>\n",
       "      <th>5</th>\n",
       "      <td>we</td>\n",
       "      <td>184</td>\n",
       "    </tr>\n",
       "    <tr>\n",
       "      <th>6</th>\n",
       "      <td>they</td>\n",
       "      <td>212</td>\n",
       "    </tr>\n",
       "    <tr>\n",
       "      <th>7</th>\n",
       "      <td>me</td>\n",
       "      <td>483</td>\n",
       "    </tr>\n",
       "    <tr>\n",
       "      <th>8</th>\n",
       "      <td>him</td>\n",
       "      <td>131</td>\n",
       "    </tr>\n",
       "    <tr>\n",
       "      <th>9</th>\n",
       "      <td>her</td>\n",
       "      <td>321</td>\n",
       "    </tr>\n",
       "    <tr>\n",
       "      <th>10</th>\n",
       "      <td>us</td>\n",
       "      <td>36</td>\n",
       "    </tr>\n",
       "    <tr>\n",
       "      <th>11</th>\n",
       "      <td>them</td>\n",
       "      <td>75</td>\n",
       "    </tr>\n",
       "    <tr>\n",
       "      <th>12</th>\n",
       "      <td>my</td>\n",
       "      <td>1798</td>\n",
       "    </tr>\n",
       "    <tr>\n",
       "      <th>13</th>\n",
       "      <td>your</td>\n",
       "      <td>254</td>\n",
       "    </tr>\n",
       "    <tr>\n",
       "      <th>14</th>\n",
       "      <td>his</td>\n",
       "      <td>550</td>\n",
       "    </tr>\n",
       "    <tr>\n",
       "      <th>15</th>\n",
       "      <td>hers</td>\n",
       "      <td>2</td>\n",
       "    </tr>\n",
       "    <tr>\n",
       "      <th>16</th>\n",
       "      <td>its</td>\n",
       "      <td>133</td>\n",
       "    </tr>\n",
       "    <tr>\n",
       "      <th>17</th>\n",
       "      <td>our</td>\n",
       "      <td>137</td>\n",
       "    </tr>\n",
       "    <tr>\n",
       "      <th>18</th>\n",
       "      <td>their</td>\n",
       "      <td>190</td>\n",
       "    </tr>\n",
       "  </tbody>\n",
       "</table>\n",
       "</div>"
      ],
      "text/plain": [
       "   Pronoun  Count\n",
       "0        i   2794\n",
       "1      you    512\n",
       "2       he    596\n",
       "3      she    242\n",
       "4       it    466\n",
       "5       we    184\n",
       "6     they    212\n",
       "7       me    483\n",
       "8      him    131\n",
       "9      her    321\n",
       "10      us     36\n",
       "11    them     75\n",
       "12      my   1798\n",
       "13    your    254\n",
       "14     his    550\n",
       "15    hers      2\n",
       "16     its    133\n",
       "17     our    137\n",
       "18   their    190"
      ]
     },
     "execution_count": 27,
     "metadata": {},
     "output_type": "execute_result"
    }
   ],
   "source": [
    "pronouns = ['i', 'you', 'he', 'she', 'it', 'we', 'they', 'me', 'him', 'her', 'us', 'them', 'my', 'your', 'his', 'hers', 'its', 'our', 'their',]\n",
    "normalized_tokens = [token.lower() for token in tokens]\n",
    "pronoun_counts = {pronoun: normalized_tokens.count(pronoun) for pronoun in pronouns}\n",
    "\n",
    "# Create a DataFrame from the counts\n",
    "pronoun_df = pd.DataFrame(list(pronoun_counts.items()), columns=['Pronoun', 'Count'])\n",
    "pronoun_df"
   ]
  },
  {
   "cell_type": "markdown",
   "id": "46183f42-c331-4917-8b67-f10d6f3cbb08",
   "metadata": {},
   "source": [
    "I is the pronoun that appears the most"
   ]
  },
  {
   "cell_type": "markdown",
   "id": "92471bd7-e996-4d62-9590-74bd2ddea5be",
   "metadata": {},
   "source": [
    "3. Which subject pronoun is most frequent in the text we imported in class? "
   ]
  },
  {
   "cell_type": "code",
   "execution_count": 17,
   "id": "217c1725-9ce7-428f-b8b7-9467bf51d448",
   "metadata": {},
   "outputs": [],
   "source": [
    "subject_pronouns = ['i', 'he', 'she', 'we', 'they','you', 'it']"
   ]
  },
  {
   "cell_type": "code",
   "execution_count": 28,
   "id": "c94a3762-fad0-4c2f-a981-c6465931a86e",
   "metadata": {},
   "outputs": [
    {
     "data": {
      "text/html": [
       "<div>\n",
       "<style scoped>\n",
       "    .dataframe tbody tr th:only-of-type {\n",
       "        vertical-align: middle;\n",
       "    }\n",
       "\n",
       "    .dataframe tbody tr th {\n",
       "        vertical-align: top;\n",
       "    }\n",
       "\n",
       "    .dataframe thead th {\n",
       "        text-align: right;\n",
       "    }\n",
       "</style>\n",
       "<table border=\"1\" class=\"dataframe\">\n",
       "  <thead>\n",
       "    <tr style=\"text-align: right;\">\n",
       "      <th></th>\n",
       "      <th>Subject Pronoun</th>\n",
       "      <th>Count</th>\n",
       "    </tr>\n",
       "  </thead>\n",
       "  <tbody>\n",
       "    <tr>\n",
       "      <th>0</th>\n",
       "      <td>i</td>\n",
       "      <td>986</td>\n",
       "    </tr>\n",
       "    <tr>\n",
       "      <th>1</th>\n",
       "      <td>he</td>\n",
       "      <td>917</td>\n",
       "    </tr>\n",
       "    <tr>\n",
       "      <th>2</th>\n",
       "      <td>she</td>\n",
       "      <td>1113</td>\n",
       "    </tr>\n",
       "    <tr>\n",
       "      <th>3</th>\n",
       "      <td>we</td>\n",
       "      <td>152</td>\n",
       "    </tr>\n",
       "    <tr>\n",
       "      <th>4</th>\n",
       "      <td>they</td>\n",
       "      <td>427</td>\n",
       "    </tr>\n",
       "    <tr>\n",
       "      <th>5</th>\n",
       "      <td>you</td>\n",
       "      <td>555</td>\n",
       "    </tr>\n",
       "    <tr>\n",
       "      <th>6</th>\n",
       "      <td>it</td>\n",
       "      <td>825</td>\n",
       "    </tr>\n",
       "  </tbody>\n",
       "</table>\n",
       "</div>"
      ],
      "text/plain": [
       "  Subject Pronoun  Count\n",
       "0               i    986\n",
       "1              he    917\n",
       "2             she   1113\n",
       "3              we    152\n",
       "4            they    427\n",
       "5             you    555\n",
       "6              it    825"
      ]
     },
     "execution_count": 28,
     "metadata": {},
     "output_type": "execute_result"
    }
   ],
   "source": [
    "src_file2 = f\"{data_home}/gutenberg/pg105.txt\" \n",
    "lines2 = open(src_file2, 'r').readlines()\n",
    "with open(src_file2, 'r', encoding='utf-8') as file:\n",
    "    raw_text2 = file.read()\n",
    "tokens2 = raw_text2.split()\n",
    "normalized_tokens2 = [token.lower() for token in tokens2]\n",
    "subpronoun_counts = {subpronoun: normalized_tokens2.count(subpronoun) for subpronoun in subject_pronouns}\n",
    "# Create a DataFrame from the counts\n",
    "subpronoun_df = pd.DataFrame(list(subpronoun_counts.items()), columns=['Subject Pronoun', 'Count'])\n",
    "subpronoun_df"
   ]
  },
  {
   "cell_type": "markdown",
   "id": "1ac1309e-4978-4fb6-9681-e8a96953d45a",
   "metadata": {},
   "source": [
    "4. Provide a brief explanation for this difference, based on what you may know about the two novels."
   ]
  },
  {
   "cell_type": "markdown",
   "id": "5b78f979-c9d4-4b81-b139-e495c471a607",
   "metadata": {},
   "source": [
    "The prevelance of the personal pronoun I in Frankenstein suggests that it is told from a first person perspective, while Persuasion is told from a third person perspective as seen from its heavy use of third person subject pronouns such as she, he and they. She being the most prevalent as the story follows a female lead."
   ]
  },
  {
   "cell_type": "code",
   "execution_count": null,
   "id": "743654ab-e994-4f68-ae81-737308b302d6",
   "metadata": {},
   "outputs": [],
   "source": []
  }
 ],
 "metadata": {
  "kernelspec": {
   "display_name": "Python 3 (ipykernel)",
   "language": "python",
   "name": "python3"
  },
  "language_info": {
   "codemirror_mode": {
    "name": "ipython",
    "version": 3
   },
   "file_extension": ".py",
   "mimetype": "text/x-python",
   "name": "python",
   "nbconvert_exporter": "python",
   "pygments_lexer": "ipython3",
   "version": "3.12.8"
  }
 },
 "nbformat": 4,
 "nbformat_minor": 5
}
